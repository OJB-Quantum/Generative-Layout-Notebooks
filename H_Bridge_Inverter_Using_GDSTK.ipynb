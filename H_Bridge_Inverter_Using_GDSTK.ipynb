{
  "nbformat": 4,
  "nbformat_minor": 0,
  "metadata": {
    "colab": {
      "provenance": [],
      "gpuType": "T4",
      "authorship_tag": "ABX9TyOw7rShw2j35BWvKYdJp+Xc",
      "include_colab_link": true
    },
    "kernelspec": {
      "name": "python3",
      "display_name": "Python 3"
    },
    "language_info": {
      "name": "python"
    },
    "accelerator": "GPU"
  },
  "cells": [
    {
      "cell_type": "markdown",
      "metadata": {
        "id": "view-in-github",
        "colab_type": "text"
      },
      "source": [
        "<a href=\"https://colab.research.google.com/github/OJB-Quantum/Generative-Layout-Notebooks/blob/main/H_Bridge_Inverter_Using_GDSTK.ipynb\" target=\"_parent\"><img src=\"https://colab.research.google.com/assets/colab-badge.svg\" alt=\"Open In Colab\"/></a>"
      ]
    },
    {
      "cell_type": "code",
      "execution_count": 3,
      "metadata": {
        "id": "r5xw08spNBLl",
        "colab": {
          "base_uri": "https://localhost:8080/",
          "height": 550
        },
        "outputId": "d57e9a0a-3d39-473c-a85f-63419977dc57"
      },
      "outputs": [
        {
          "output_type": "stream",
          "name": "stderr",
          "text": [
            "WARNING:matplotlib.axes._base:Ignoring fixed y limits to fulfill fixed data aspect with adjustable data limits.\n"
          ]
        },
        {
          "output_type": "display_data",
          "data": {
            "text/plain": [
              "<Figure size 640x480 with 1 Axes>"
            ],
            "image/png": "[encoded data removed]"
          },
          "metadata": {}
        },
        {
          "output_type": "stream",
          "name": "stdout",
          "text": [
            "✅ Generated hbridge.gds and hbridge.svg — fetch via left sidebar or `files` module.\n"
          ]
        },
        {
          "output_type": "execute_result",
          "data": {
            "text/plain": [
              "<IPython.core.display.SVG object>"
            ],
            "image/svg+xml": "<svg xmlns=\"http://www.w3.org/2000/svg\" xmlns:xlink=\"http://www.w3.org/1999/xlink\" width=\"107.8\" height=\"81.6\" viewBox=\"-4.9 -74.9 107.8 81.6\">\n<defs>\n<style type=\"text/css\">\n.l65d20 {stroke: rgb(87, 53, 128); fill: rgb(87, 53, 128); fill-opacity: 0.5;}\n.l68d20 {stroke: rgb(0, 0, 128); fill: rgb(0, 0, 128); fill-opacity: 0.5;}\n.l66d20 {stroke: rgb(128, 64, 64); fill: rgb(128, 64, 64); fill-opacity: 0.5;}\n.l10t0 {stroke: none; fill: rgb(42, 139, 255);}\n</style>\n<g id=\"rectangle\">\n<polygon class=\"l66d20\" points=\"1.7999999999999998,12.0 1.7999999999999998,0.0 0.0,0.0 0.0,12.0\"/>\n</g>\n<g id=\"rectangle\">\n<polygon class=\"l65d20\" points=\"24.0,1.7999999999999998 24.0,0.0 0.0,0.0 0.0,1.7999999999999998\"/>\n</g>\n<g id=\"N_L\">\n<text class=\"l10t0\" text-anchor=\"middle\" dominant-baseline=\"central\" transform=\"scale(1 -1) translate(0.0 3.5999999999999996)\">N_L</text>\n<use transform=\"translate(0.0 0.0) rotate(0.0)\" xlink:href=\"#rectangle\"/>\n<use transform=\"translate(0.0 -1.7999999999999998) rotate(0.0)\" xlink:href=\"#rectangle\"/>\n<use transform=\"translate(12.0 -1.7999999999999998) rotate(0.0)\" xlink:href=\"#rectangle\"/>\n</g>\n<g id=\"N_R\">\n<text class=\"l10t0\" text-anchor=\"middle\" dominant-baseline=\"central\" transform=\"scale(1 -1) translate(0.0 3.5999999999999996)\">N_R</text>\n<use transform=\"translate(0.0 0.0) rotate(0.0)\" xlink:href=\"#rectangle\"/>\n<use transform=\"translate(0.0 -1.7999999999999998) rotate(0.0)\" xlink:href=\"#rectangle\"/>\n<use transform=\"translate(12.0 -1.7999999999999998) rotate(0.0)\" xlink:href=\"#rectangle\"/>\n</g>\n<g id=\"rectangle\">\n<polygon class=\"l66d20\" points=\"1.7999999999999998,12.0 1.7999999999999998,0.0 0.0,0.0 0.0,12.0\"/>\n</g>\n<g id=\"rectangle\">\n<polygon class=\"l66d20\" points=\"1.7999999999999998,12.0 1.7999999999999998,0.0 0.0,0.0 0.0,12.0\"/>\n</g>\n<g id=\"rectangle\">\n<polygon class=\"l65d20\" points=\"24.0,1.7999999999999998 24.0,0.0 0.0,0.0 0.0,1.7999999999999998\"/>\n</g>\n<g id=\"P_R\">\n<text class=\"l10t0\" text-anchor=\"middle\" dominant-baseline=\"central\" transform=\"scale(1 -1) translate(0.0 3.5999999999999996)\">P_R</text>\n<use transform=\"translate(0.0 0.0) rotate(0.0)\" xlink:href=\"#rectangle\"/>\n<use transform=\"translate(0.0 -1.7999999999999998) rotate(0.0)\" xlink:href=\"#rectangle\"/>\n<use transform=\"translate(12.0 -1.7999999999999998) rotate(0.0)\" xlink:href=\"#rectangle\"/>\n</g>\n<g id=\"rectangle\">\n<polygon class=\"l66d20\" points=\"1.7999999999999998,12.0 1.7999999999999998,0.0 0.0,0.0 0.0,12.0\"/>\n</g>\n<g id=\"rectangle\">\n<polygon class=\"l66d20\" points=\"1.7999999999999998,12.0 1.7999999999999998,0.0 0.0,0.0 0.0,12.0\"/>\n</g>\n<g id=\"rectangle\">\n<polygon class=\"l65d20\" points=\"24.0,1.7999999999999998 24.0,0.0 0.0,0.0 0.0,1.7999999999999998\"/>\n</g>\n<g id=\"P_L\">\n<text class=\"l10t0\" text-anchor=\"middle\" dominant-baseline=\"central\" transform=\"scale(1 -1) translate(0.0 3.5999999999999996)\">P_L</text>\n<use transform=\"translate(0.0 0.0) rotate(0.0)\" xlink:href=\"#rectangle\"/>\n<use transform=\"translate(0.0 -1.7999999999999998) rotate(0.0)\" xlink:href=\"#rectangle\"/>\n<use transform=\"translate(12.0 -1.7999999999999998) rotate(0.0)\" xlink:href=\"#rectangle\"/>\n</g>\n<g id=\"rectangle\">\n<polygon class=\"l66d20\" points=\"1.7999999999999998,12.0 1.7999999999999998,0.0 0.0,0.0 0.0,12.0\"/>\n</g>\n<g id=\"rectangle\">\n<polygon class=\"l68d20\" points=\"20.0,68.0 20.0,0.0 0.0,0.0 0.0,68.0\"/>\n</g>\n<g id=\"rectangle\">\n<polygon class=\"l66d20\" points=\"1.7999999999999998,12.0 1.7999999999999998,0.0 0.0,0.0 0.0,12.0\"/>\n</g>\n<g id=\"rectangle\">\n<polygon class=\"l65d20\" points=\"24.0,1.7999999999999998 24.0,0.0 0.0,0.0 0.0,1.7999999999999998\"/>\n</g>\n<g id=\"rectangle\">\n<polygon class=\"l66d20\" points=\"1.7999999999999998,12.0 1.7999999999999998,0.0 0.0,0.0 0.0,12.0\"/>\n</g>\n</defs>\n<rect x=\"-4.9\" y=\"-74.9\" width=\"107.8\" height=\"81.6\" fill=\"#222\" stroke=\"none\"/>\n<g id=\"HBRIDGE_X1\" transform=\"scale(1 -1)\">\n<use transform=\"translate(0.0 44.0) rotate(0.0)\" xlink:href=\"#P_L\"/>\n<use transform=\"translate(74.0 44.0) rotate(0.0)\" xlink:href=\"#P_R\"/>\n<use transform=\"translate(0.0 0.0) rotate(0.0)\" xlink:href=\"#N_L\"/>\n<use transform=\"translate(74.0 0.0) rotate(0.0)\" xlink:href=\"#N_R\"/>\n<use transform=\"translate(44.0 1.9999999999999996) rotate(0.0)\" xlink:href=\"#rectangle\"/>\n</g>\n</svg>"
          },
          "metadata": {},
          "execution_count": 3
        }
      ],
      "source": [
        "# @title CMOS H-Bridge Inverter Cell — Google Colab Notebook\n",
        "# Colab cells are delimited by comments “# %%” for clarity.\n",
        "# Author  : Onri Jay Benally\n",
        "# Updated : 2025-06-03 (use `quickplot` instead of deprecated `quickplot2`)\n",
        "\n",
        "# %% [markdown]\n",
        "\"\"\"\n",
        "# CMOS H‑Bridge Inverter Repeatable Cell\n",
        "This Colab notebook autogenerates a **parametric CMOS H‑Bridge inverter** in\n",
        "GDSII format and shows an inline preview. The workflow uses only free/open‑\n",
        "source Python libraries (`phidl`, `gdstk`). Inspect or edit the final\n",
        "`hbridge.gds` with **KLayout**.\n",
        "\n",
        "Key features\n",
        "------------\n",
        "* **Adjustable parameters** – transistor W/L, finger count, metal width, contact size.\n",
        "* **Preview** – matplotlib‑based `quickplot()` and an exported SVG snapshot.\n",
        "* **Outputs** – `hbridge.gds` (layout) & `hbridge.svg` (quick view).\n",
        "\n",
        "> Run the notebook top‑to‑bottom or hit **Runtime ▸ Run‑All**.\n",
        "\"\"\"\n",
        "\n",
        "# %% Install dependencies (≈3 s on Colab)\n",
        "!pip install --quiet phidl gdstk\n",
        "\n",
        "# %% Imports and layer map\n",
        "import phidl\n",
        "from phidl import Device, quickplot as qp  # <- matplotlib backend; no PyQt5 needed\n",
        "import gdstk\n",
        "import matplotlib.pyplot as plt\n",
        "\n",
        "# Example GDS layer assignments (layer, datatype)\n",
        "LAYER = {\n",
        "    \"diffusion\": (65, 20),\n",
        "    \"poly\"     : (66, 20),\n",
        "    \"contact\"  : (67, 44),\n",
        "    \"metal1\"   : (68, 20),\n",
        "    \"label\"    : (10, 0),\n",
        "}\n",
        "\n",
        "# %% Primitive transistor generator\n",
        "\n",
        "def transistor(W=1.0, L=0.15, fingers=1, name=\"NMOS\"):\n",
        "    \"\"\"Create a simplistic planar transistor (layout‑agnostic).\"\"\"\n",
        "    D = Device(name)\n",
        "\n",
        "    # Active diffusion rectangle\n",
        "    active = phidl.geometry.rectangle(size=(W * fingers, L), layer=LAYER[\"diffusion\"])\n",
        "    D.add_ref(active)\n",
        "\n",
        "    # Poly gates – one stripe per finger\n",
        "    for i in range(fingers):\n",
        "        gate = phidl.geometry.rectangle(size=(L, W), layer=LAYER[\"poly\"])\n",
        "        gref = D.add_ref(gate)\n",
        "        gref.move((i * W, -L))\n",
        "\n",
        "    # Text label (visible in KLayout)\n",
        "    D.add_label(name, position=(0, -2 * L), layer=LAYER[\"label\"])\n",
        "    return D\n",
        "\n",
        "# %% H‑Bridge cell generator\n",
        "\n",
        "def hbridge_cell(W=1.0, L=0.15, fingers=1, cell_name=\"HBRIDGE\"):\n",
        "    \"\"\"Return a repeatable CMOS H‑Bridge inverter cell.\"\"\"\n",
        "    C = Device(cell_name)\n",
        "\n",
        "    # Instantiate four transistors in H‑bridge topology\n",
        "    p_left  = C.add_ref(transistor(W, L, fingers, name=\"P_L\"))\n",
        "    p_right = C.add_ref(transistor(W, L, fingers, name=\"P_R\"))\n",
        "    n_left  = C.add_ref(transistor(W, L, fingers, name=\"N_L\"))\n",
        "    n_right = C.add_ref(transistor(W, L, fingers, name=\"N_R\"))\n",
        "\n",
        "    # Placement (simple grid — tweak as desired)\n",
        "    p_left.move((0, 2 * W + 2))\n",
        "    p_right.move((W * fingers + 5, 2 * W + 2))\n",
        "    n_left.move((0, 0))\n",
        "    n_right.move((W * fingers + 5, 0))\n",
        "\n",
        "    # Central metal connection (OUT node)\n",
        "    mid = phidl.geometry.rectangle(size=(2, 4 * W + 2), layer=LAYER[\"metal1\"])\n",
        "    mid_ref = C.add_ref(mid)\n",
        "    mid_ref.move((W * fingers + 2, W - 1))\n",
        "\n",
        "    # Define ports for routing / tiling (no `layer` kwarg in Phidl ≥1.6.0)\n",
        "    C.add_port(\"IN_A\", midpoint=p_left.center,  width=0.5, orientation=180)\n",
        "    C.add_port(\"IN_B\", midpoint=p_right.center, width=0.5, orientation=0)\n",
        "    C.add_port(\"VDD\",  midpoint=(p_left.xmin - 1, p_left.ymax + 1), width=1.0, orientation=90)\n",
        "    C.add_port(\"VSS\",  midpoint=(n_left.xmin - 1, n_left.ymin - 1), width=1.0, orientation=-90)\n",
        "    C.add_port(\"OUT\",  midpoint=mid_ref.center,                        width=1.0, orientation=90)\n",
        "\n",
        "    return C\n",
        "\n",
        "# %% Generate and preview the cell (matplotlib view)\n",
        "cell = hbridge_cell(W=1.2, L=0.18, fingers=2, cell_name=\"HBRIDGE_X1\")\n",
        "qp(cell)  # interactive plot (matplotlib) — works on Colab\n",
        "plt.show()\n",
        "\n",
        "# %% Export GDS + SVG previews\n",
        "cell.write_gds(\"hbridge.gds\")\n",
        "cell.write_svg(\"hbridge.svg\")\n",
        "print(\"✅ Generated hbridge.gds and hbridge.svg — fetch via left sidebar or `files` module.\")\n",
        "\n",
        "# Display SVG inline for a quick sanity check\n",
        "from IPython.display import SVG\n",
        "SVG(\"hbridge.svg\")\n"
      ]
    }
  ]
}